{
 "cells": [
  {
   "cell_type": "code",
   "execution_count": 22,
   "metadata": {},
   "outputs": [
    {
     "name": "stdout",
     "output_type": "stream",
     "text": [
      "100000\n",
      "(40000, 50000)\n",
      "5.728754997253418\n"
     ]
    }
   ],
   "source": [
    "import numpy as np\n",
    "from numba import jit\n",
    "import cv2, random, time\n",
    "from papSmear.proj_utils.local_utils import overlayImg\n",
    "@jit(nopython=True)\n",
    "def plot_contour(img, rectangles, linewidth=3):\n",
    "    contour_mask = np.zeros(img.shape[0:2])\n",
    "    num = len(rectangles)\n",
    "    for idx in range(num):\n",
    "        this_rec = rectangles[idx]\n",
    "        rs, cs, re, ce = this_rec\n",
    "        contour_mask[rs:re+1, cs:ce+1] = 1\n",
    "    return contour_mask\n",
    "@jit\n",
    "def get_rect(numbers, rowsize, colsize):\n",
    "    rectangle = [[0,0,0,0]]\n",
    "    \n",
    "    length = random.randint(5, 19)\n",
    "    \n",
    "    for this_rec in range(numbers):\n",
    "        row_choice = random.randint(20, rowsize-20)\n",
    "        col_choice = random.randint(20, colsize-20) \n",
    "        rs, cs, re, ce = row_choice, col_choice, row_choice+length, col_choice+length\n",
    "        rectangle.append([rs, cs, re, ce])\n",
    "    return rectangle[1::]\n",
    "\n",
    "start_timer = time.time()\n",
    "row_size, col_size = 40000, 50000\n",
    "img = np.zeros((row_size, col_size))\n",
    "rect_pool = get_rect(100000, row_size, col_size)\n",
    "print(len(rect_pool))\n",
    "rect_pool = np.asarray(rect_pool)\n",
    "contour_mask = plot_contour(img, rect_pool)\n",
    "linewidth = 3\n",
    "print(contour_mask.shape)\n",
    "end_timer = time.time()\n",
    "print(end_timer-start_timer)\n",
    "\n",
    "se = cv2.getStructuringElement(cv2.MORPH_ELLIPSE,(linewidth, linewidth))\n",
    "contour_mask = cv2.dilate(contour_mask,se)\n"
   ]
  },
  {
   "cell_type": "code",
   "execution_count": 29,
   "metadata": {},
   "outputs": [
    {
     "name": "stdout",
     "output_type": "stream",
     "text": [
      "10\n",
      "[<HDF5 object reference>]\n"
     ]
    }
   ],
   "source": [
    "import h5py, os\n",
    "import numpy  as np\n",
    "filename = os.path.join('/home/yuanpuxie/DataSet/papSmear',\n",
    "                        '2017-09-04 13_58_31_20170930030138_gt.mat')\n",
    "with h5py.File(filename, 'r') as f:\n",
    "    contours = list( f['Contours'])\n",
    "    print(len(contours))\n",
    "    con = np.asarray(contours[0])\n",
    "    print(con)"
   ]
  },
  {
   "cell_type": "code",
   "execution_count": null,
   "metadata": {
    "collapsed": true
   },
   "outputs": [],
   "source": []
  }
 ],
 "metadata": {
  "kernelspec": {
   "display_name": "Python 3",
   "language": "python",
   "name": "python3"
  },
  "language_info": {
   "codemirror_mode": {
    "name": "ipython",
    "version": 3
   },
   "file_extension": ".py",
   "mimetype": "text/x-python",
   "name": "python",
   "nbconvert_exporter": "python",
   "pygments_lexer": "ipython3",
   "version": "3.6.1"
  }
 },
 "nbformat": 4,
 "nbformat_minor": 2
}
